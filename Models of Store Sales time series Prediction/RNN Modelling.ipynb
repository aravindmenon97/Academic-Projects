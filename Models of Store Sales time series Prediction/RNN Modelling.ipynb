{
 "cells": [
  {
   "cell_type": "code",
   "execution_count": 20,
   "id": "f0ecdd76",
   "metadata": {},
   "outputs": [],
   "source": [
    "import numpy as np\n",
    "import pandas as pd \n",
    "import matplotlib.pyplot as plt"
   ]
  },
  {
   "cell_type": "code",
   "execution_count": 22,
   "id": "2d043a0d",
   "metadata": {},
   "outputs": [],
   "source": [
    "dataset_train = pd.read_csv(r'C:\\Users\\RAVI\\Desktop\\test.csv')"
   ]
  },
  {
   "cell_type": "code",
   "execution_count": 23,
   "id": "421d40b7",
   "metadata": {},
   "outputs": [
    {
     "data": {
      "text/html": [
       "<div>\n",
       "<style scoped>\n",
       "    .dataframe tbody tr th:only-of-type {\n",
       "        vertical-align: middle;\n",
       "    }\n",
       "\n",
       "    .dataframe tbody tr th {\n",
       "        vertical-align: top;\n",
       "    }\n",
       "\n",
       "    .dataframe thead th {\n",
       "        text-align: right;\n",
       "    }\n",
       "</style>\n",
       "<table border=\"1\" class=\"dataframe\">\n",
       "  <thead>\n",
       "    <tr style=\"text-align: right;\">\n",
       "      <th></th>\n",
       "      <th>id</th>\n",
       "      <th>date</th>\n",
       "      <th>store_nbr</th>\n",
       "      <th>family</th>\n",
       "      <th>onpromotion</th>\n",
       "    </tr>\n",
       "  </thead>\n",
       "  <tbody>\n",
       "    <tr>\n",
       "      <th>0</th>\n",
       "      <td>3000888</td>\n",
       "      <td>2017-08-16</td>\n",
       "      <td>1</td>\n",
       "      <td>AUTOMOTIVE</td>\n",
       "      <td>20.0</td>\n",
       "    </tr>\n",
       "    <tr>\n",
       "      <th>1</th>\n",
       "      <td>3000889</td>\n",
       "      <td>2017-08-16</td>\n",
       "      <td>1</td>\n",
       "      <td>BABY CARE</td>\n",
       "      <td>1.0</td>\n",
       "    </tr>\n",
       "    <tr>\n",
       "      <th>2</th>\n",
       "      <td>3000890</td>\n",
       "      <td>2017-08-16</td>\n",
       "      <td>1</td>\n",
       "      <td>BEAUTY</td>\n",
       "      <td>8.0</td>\n",
       "    </tr>\n",
       "    <tr>\n",
       "      <th>3</th>\n",
       "      <td>3000891</td>\n",
       "      <td>2017-08-16</td>\n",
       "      <td>1</td>\n",
       "      <td>BEVERAGES</td>\n",
       "      <td>560.0</td>\n",
       "    </tr>\n",
       "    <tr>\n",
       "      <th>4</th>\n",
       "      <td>3000892</td>\n",
       "      <td>2017-08-16</td>\n",
       "      <td>1</td>\n",
       "      <td>BOOKS</td>\n",
       "      <td>1.0</td>\n",
       "    </tr>\n",
       "  </tbody>\n",
       "</table>\n",
       "</div>"
      ],
      "text/plain": [
       "        id        date  store_nbr      family  onpromotion\n",
       "0  3000888  2017-08-16          1  AUTOMOTIVE         20.0\n",
       "1  3000889  2017-08-16          1   BABY CARE          1.0\n",
       "2  3000890  2017-08-16          1      BEAUTY          8.0\n",
       "3  3000891  2017-08-16          1   BEVERAGES        560.0\n",
       "4  3000892  2017-08-16          1       BOOKS          1.0"
      ]
     },
     "execution_count": 23,
     "metadata": {},
     "output_type": "execute_result"
    }
   ],
   "source": [
    "dataset_train.head()"
   ]
  },
  {
   "cell_type": "code",
   "execution_count": 29,
   "id": "6990fb63",
   "metadata": {},
   "outputs": [
    {
     "data": {
      "text/plain": [
       "array([[1],\n",
       "       [1],\n",
       "       [1],\n",
       "       ...,\n",
       "       [9],\n",
       "       [9],\n",
       "       [9]], dtype=int64)"
      ]
     },
     "execution_count": 29,
     "metadata": {},
     "output_type": "execute_result"
    }
   ],
   "source": [
    "train = dataset_train.loc[:, ['store_nbr']].values\n",
    "train"
   ]
  },
  {
   "cell_type": "code",
   "execution_count": 30,
   "id": "969d8c96",
   "metadata": {},
   "outputs": [
    {
     "data": {
      "text/plain": [
       "array([[0.       ],\n",
       "       [0.       ],\n",
       "       [0.       ],\n",
       "       ...,\n",
       "       [0.1509434],\n",
       "       [0.1509434],\n",
       "       [0.1509434]])"
      ]
     },
     "execution_count": 30,
     "metadata": {},
     "output_type": "execute_result"
    }
   ],
   "source": [
    "from sklearn.preprocessing import MinMaxScaler #bununla, 0-1 arasına scale ettik\n",
    "scaler = MinMaxScaler(feature_range = (0, 1))\n",
    "train_scaled = scaler.fit_transform(train)\n",
    "train_scaled"
   ]
  },
  {
   "cell_type": "code",
   "execution_count": 31,
   "id": "87f67067",
   "metadata": {},
   "outputs": [
    {
     "data": {
      "text/plain": [
       "[<matplotlib.lines.Line2D at 0xe190bfda60>]"
      ]
     },
     "execution_count": 31,
     "metadata": {},
     "output_type": "execute_result"
    },
    {
     "data": {
      "image/png": "[encoded data removed]",
      "text/plain": [
       "<Figure size 432x288 with 1 Axes>"
      ]
     },
     "metadata": {
      "needs_background": "light"
     },
     "output_type": "display_data"
    }
   ],
   "source": [
    "plt.plot(train_scaled)"
   ]
  },
  {
   "cell_type": "code",
   "execution_count": 32,
   "id": "1a39db79",
   "metadata": {},
   "outputs": [],
   "source": [
    "X_train = []\n",
    "y_train = []\n",
    "timesteps = 50\n",
    "\n",
    "for i in range(timesteps, 1250):\n",
    "    X_train.append(train_scaled[i - timesteps:i, 0])\n",
    "    y_train.append(train_scaled[i, 0])\n",
    "    \n",
    "X_train, y_train = np.array(X_train), np.array(y_train)"
   ]
  },
  {
   "cell_type": "code",
   "execution_count": 33,
   "id": "80cd3ee6",
   "metadata": {},
   "outputs": [],
   "source": [
    "X_train = np.reshape(X_train, (X_train.shape[0], X_train.shape[1], 1))"
   ]
  },
  {
   "cell_type": "code",
   "execution_count": 34,
   "id": "0314928f",
   "metadata": {},
   "outputs": [
    {
     "name": "stdout",
     "output_type": "stream",
     "text": [
      "Epoch 1/100\n",
      "38/38 [==============================] - 7s 39ms/step - loss: 0.5593\n",
      "Epoch 2/100\n",
      "38/38 [==============================] - 2s 42ms/step - loss: 0.3546\n",
      "Epoch 3/100\n",
      "38/38 [==============================] - 2s 41ms/step - loss: 0.2618\n",
      "Epoch 4/100\n",
      "38/38 [==============================] - 2s 41ms/step - loss: 0.1834\n",
      "Epoch 5/100\n",
      "38/38 [==============================] - 2s 41ms/step - loss: 0.1526\n",
      "Epoch 6/100\n",
      "38/38 [==============================] - 1s 37ms/step - loss: 0.1146\n",
      "Epoch 7/100\n",
      "38/38 [==============================] - 1s 39ms/step - loss: 0.0969\n",
      "Epoch 8/100\n",
      "38/38 [==============================] - 1s 39ms/step - loss: 0.0860\n",
      "Epoch 9/100\n",
      "38/38 [==============================] - 2s 41ms/step - loss: 0.0719\n",
      "Epoch 10/100\n",
      "38/38 [==============================] - 2s 42ms/step - loss: 0.0670\n",
      "Epoch 11/100\n",
      "38/38 [==============================] - 1s 39ms/step - loss: 0.0602\n",
      "Epoch 12/100\n",
      "38/38 [==============================] - 2s 40ms/step - loss: 0.0552\n",
      "Epoch 13/100\n",
      "38/38 [==============================] - 2s 40ms/step - loss: 0.0474\n",
      "Epoch 14/100\n",
      "38/38 [==============================] - 2s 41ms/step - loss: 0.0405\n",
      "Epoch 15/100\n",
      "38/38 [==============================] - 1s 39ms/step - loss: 0.0394\n",
      "Epoch 16/100\n",
      "38/38 [==============================] - 2s 39ms/step - loss: 0.0360\n",
      "Epoch 17/100\n",
      "38/38 [==============================] - 1s 38ms/step - loss: 0.0322\n",
      "Epoch 18/100\n",
      "38/38 [==============================] - 1s 38ms/step - loss: 0.0294\n",
      "Epoch 19/100\n",
      "38/38 [==============================] - 1s 38ms/step - loss: 0.0287\n",
      "Epoch 20/100\n",
      "38/38 [==============================] - 2s 42ms/step - loss: 0.0262\n",
      "Epoch 21/100\n",
      "38/38 [==============================] - 2s 39ms/step - loss: 0.0214\n",
      "Epoch 22/100\n",
      "38/38 [==============================] - 2s 40ms/step - loss: 0.0200\n",
      "Epoch 23/100\n",
      "38/38 [==============================] - 2s 41ms/step - loss: 0.0186\n",
      "Epoch 24/100\n",
      "38/38 [==============================] - 2s 40ms/step - loss: 0.0162\n",
      "Epoch 25/100\n",
      "38/38 [==============================] - 2s 39ms/step - loss: 0.0167\n",
      "Epoch 26/100\n",
      "38/38 [==============================] - 2s 41ms/step - loss: 0.0160\n",
      "Epoch 27/100\n",
      "38/38 [==============================] - 2s 40ms/step - loss: 0.0143\n",
      "Epoch 28/100\n",
      "38/38 [==============================] - 1s 38ms/step - loss: 0.0127\n",
      "Epoch 29/100\n",
      "38/38 [==============================] - 1s 39ms/step - loss: 0.0131\n",
      "Epoch 30/100\n",
      "38/38 [==============================] - 2s 43ms/step - loss: 0.0127\n",
      "Epoch 31/100\n",
      "38/38 [==============================] - 1s 38ms/step - loss: 0.0118\n",
      "Epoch 32/100\n",
      "38/38 [==============================] - 2s 47ms/step - loss: 0.0114\n",
      "Epoch 33/100\n",
      "38/38 [==============================] - 2s 50ms/step - loss: 0.0106\n",
      "Epoch 34/100\n",
      "38/38 [==============================] - 2s 49ms/step - loss: 0.0107\n",
      "Epoch 35/100\n",
      "38/38 [==============================] - 2s 49ms/step - loss: 0.0100\n",
      "Epoch 36/100\n",
      "38/38 [==============================] - 2s 49ms/step - loss: 0.0100\n",
      "Epoch 37/100\n",
      "38/38 [==============================] - 2s 49ms/step - loss: 0.0093\n",
      "Epoch 38/100\n",
      "38/38 [==============================] - 1s 39ms/step - loss: 0.0085\n",
      "Epoch 39/100\n",
      "38/38 [==============================] - 1s 39ms/step - loss: 0.0081\n",
      "Epoch 40/100\n",
      "38/38 [==============================] - 1s 39ms/step - loss: 0.0081\n",
      "Epoch 41/100\n",
      "38/38 [==============================] - 1s 39ms/step - loss: 0.0074\n",
      "Epoch 42/100\n",
      "38/38 [==============================] - 2s 42ms/step - loss: 0.0077\n",
      "Epoch 43/100\n",
      "38/38 [==============================] - 2s 42ms/step - loss: 0.0068\n",
      "Epoch 44/100\n",
      "38/38 [==============================] - 2s 43ms/step - loss: 0.0073\n",
      "Epoch 45/100\n",
      "38/38 [==============================] - 2s 40ms/step - loss: 0.0068\n",
      "Epoch 46/100\n",
      "38/38 [==============================] - 2s 41ms/step - loss: 0.0066\n",
      "Epoch 47/100\n",
      "38/38 [==============================] - 2s 40ms/step - loss: 0.0071\n",
      "Epoch 48/100\n",
      "38/38 [==============================] - 1s 39ms/step - loss: 0.0062\n",
      "Epoch 49/100\n",
      "38/38 [==============================] - 2s 41ms/step - loss: 0.0062\n",
      "Epoch 50/100\n",
      "38/38 [==============================] - 1s 39ms/step - loss: 0.0064\n",
      "Epoch 51/100\n",
      "38/38 [==============================] - 2s 40ms/step - loss: 0.0061\n",
      "Epoch 52/100\n",
      "38/38 [==============================] - 2s 42ms/step - loss: 0.0059\n",
      "Epoch 53/100\n",
      "38/38 [==============================] - 1s 39ms/step - loss: 0.0054\n",
      "Epoch 54/100\n",
      "38/38 [==============================] - 2s 42ms/step - loss: 0.0055\n",
      "Epoch 55/100\n",
      "38/38 [==============================] - 2s 42ms/step - loss: 0.0053\n",
      "Epoch 56/100\n",
      "38/38 [==============================] - 2s 40ms/step - loss: 0.0055\n",
      "Epoch 57/100\n",
      "38/38 [==============================] - 1s 39ms/step - loss: 0.0053\n",
      "Epoch 58/100\n",
      "38/38 [==============================] - 1s 38ms/step - loss: 0.0049\n",
      "Epoch 59/100\n",
      "38/38 [==============================] - 1s 38ms/step - loss: 0.0052\n",
      "Epoch 60/100\n",
      "38/38 [==============================] - 1s 38ms/step - loss: 0.0050\n",
      "Epoch 61/100\n",
      "38/38 [==============================] - 2s 40ms/step - loss: 0.0051\n",
      "Epoch 62/100\n",
      "38/38 [==============================] - 1s 39ms/step - loss: 0.0045\n",
      "Epoch 63/100\n",
      "38/38 [==============================] - 2s 40ms/step - loss: 0.0043\n",
      "Epoch 64/100\n",
      "38/38 [==============================] - 1s 39ms/step - loss: 0.0044\n",
      "Epoch 65/100\n",
      "38/38 [==============================] - 1s 39ms/step - loss: 0.0053\n",
      "Epoch 66/100\n",
      "38/38 [==============================] - 1s 39ms/step - loss: 0.0044\n",
      "Epoch 67/100\n",
      "38/38 [==============================] - 2s 40ms/step - loss: 0.0041\n",
      "Epoch 68/100\n",
      "38/38 [==============================] - 1s 39ms/step - loss: 0.0044\n",
      "Epoch 69/100\n",
      "38/38 [==============================] - 1s 38ms/step - loss: 0.0047\n",
      "Epoch 70/100\n",
      "38/38 [==============================] - 1s 38ms/step - loss: 0.0039\n",
      "Epoch 71/100\n",
      "38/38 [==============================] - 2s 40ms/step - loss: 0.0041\n",
      "Epoch 72/100\n",
      "38/38 [==============================] - 1s 39ms/step - loss: 0.0039\n",
      "Epoch 73/100\n",
      "38/38 [==============================] - 1s 39ms/step - loss: 0.0044\n",
      "Epoch 74/100\n",
      "38/38 [==============================] - 1s 39ms/step - loss: 0.0042\n",
      "Epoch 75/100\n",
      "38/38 [==============================] - 1s 39ms/step - loss: 0.0039\n",
      "Epoch 76/100\n",
      "38/38 [==============================] - 2s 41ms/step - loss: 0.0035\n",
      "Epoch 77/100\n",
      "38/38 [==============================] - 2s 42ms/step - loss: 0.0037\n",
      "Epoch 78/100\n",
      "38/38 [==============================] - 2s 40ms/step - loss: 0.0039\n",
      "Epoch 79/100\n",
      "38/38 [==============================] - 1s 39ms/step - loss: 0.0035\n",
      "Epoch 80/100\n",
      "38/38 [==============================] - 1s 39ms/step - loss: 0.0038\n",
      "Epoch 81/100\n",
      "38/38 [==============================] - 1s 39ms/step - loss: 0.0034\n",
      "Epoch 82/100\n",
      "38/38 [==============================] - 1s 39ms/step - loss: 0.0039\n",
      "Epoch 83/100\n",
      "38/38 [==============================] - 2s 41ms/step - loss: 0.0034\n",
      "Epoch 84/100\n",
      "38/38 [==============================] - 2s 40ms/step - loss: 0.0034\n",
      "Epoch 85/100\n",
      "38/38 [==============================] - 2s 40ms/step - loss: 0.0034\n",
      "Epoch 86/100\n",
      "38/38 [==============================] - 2s 40ms/step - loss: 0.0033\n",
      "Epoch 87/100\n",
      "38/38 [==============================] - 1s 39ms/step - loss: 0.0033\n",
      "Epoch 88/100\n",
      "38/38 [==============================] - 2s 41ms/step - loss: 0.0032: 1\n",
      "Epoch 89/100\n",
      "38/38 [==============================] - 2s 39ms/step - loss: 0.0031\n",
      "Epoch 90/100\n",
      "38/38 [==============================] - 1s 39ms/step - loss: 0.0031\n",
      "Epoch 91/100\n",
      "38/38 [==============================] - 1s 39ms/step - loss: 0.0035\n",
      "Epoch 92/100\n",
      "38/38 [==============================] - 2s 40ms/step - loss: 0.0031\n",
      "Epoch 93/100\n",
      "38/38 [==============================] - 2s 40ms/step - loss: 0.0031\n",
      "Epoch 94/100\n",
      "38/38 [==============================] - 2s 41ms/step - loss: 0.0031\n",
      "Epoch 95/100\n",
      "38/38 [==============================] - 2s 40ms/step - loss: 0.0029\n",
      "Epoch 96/100\n",
      "38/38 [==============================] - 2s 41ms/step - loss: 0.0028\n",
      "Epoch 97/100\n",
      "38/38 [==============================] - 2s 41ms/step - loss: 0.0032\n",
      "Epoch 98/100\n",
      "38/38 [==============================] - 1s 39ms/step - loss: 0.0034\n",
      "Epoch 99/100\n",
      "38/38 [==============================] - 2s 41ms/step - loss: 0.0029\n",
      "Epoch 100/100\n",
      "38/38 [==============================] - 2s 39ms/step - loss: 0.0031\n"
     ]
    },
    {
     "data": {
      "text/plain": [
       "<keras.callbacks.History at 0xe19c0c4520>"
      ]
     },
     "execution_count": 34,
     "metadata": {},
     "output_type": "execute_result"
    }
   ],
   "source": [
    "from keras.models import Sequential\n",
    "from keras.layers import Dense\n",
    "from keras.layers import SimpleRNN\n",
    "from keras.layers import Dropout\n",
    "\n",
    "#Initialize RNN:\n",
    "regressor = Sequential()\n",
    "\n",
    "#Adding the first RNN layer and some Dropout regularization\n",
    "regressor.add(SimpleRNN(units = 50, activation='tanh', return_sequences=True, input_shape= (X_train.shape[1],1)))\n",
    "regressor.add(Dropout(0.2))\n",
    "\n",
    "#Adding the second RNN layer and some Dropout regularization\n",
    "regressor.add(SimpleRNN(units = 50, activation='tanh', return_sequences=True))\n",
    "regressor.add(Dropout(0.2))\n",
    "\n",
    "#Adding the third RNN layer and some Dropout regularization\n",
    "regressor.add(SimpleRNN(units = 50, activation='tanh', return_sequences=True))\n",
    "\n",
    "regressor.add(Dropout(0.2))\n",
    "\n",
    "#Adding the fourth RNN layer and some Dropout regularization\n",
    "regressor.add(SimpleRNN(units = 50))\n",
    "regressor.add(Dropout(0.2))\n",
    "\n",
    "#Adding the output layer\n",
    "regressor.add(Dense(units = 1))\n",
    "\n",
    "#Compile the RNN\n",
    "regressor.compile(optimizer='adam', loss='mean_squared_error')\n",
    "\n",
    "#Fitting the RNN to the Training set\n",
    "regressor.fit(X_train, y_train, epochs=100, batch_size=32)"
   ]
  },
  {
   "cell_type": "code",
   "execution_count": 35,
   "id": "d0341ede",
   "metadata": {},
   "outputs": [
    {
     "data": {
      "text/html": [
       "<div>\n",
       "<style scoped>\n",
       "    .dataframe tbody tr th:only-of-type {\n",
       "        vertical-align: middle;\n",
       "    }\n",
       "\n",
       "    .dataframe tbody tr th {\n",
       "        vertical-align: top;\n",
       "    }\n",
       "\n",
       "    .dataframe thead th {\n",
       "        text-align: right;\n",
       "    }\n",
       "</style>\n",
       "<table border=\"1\" class=\"dataframe\">\n",
       "  <thead>\n",
       "    <tr style=\"text-align: right;\">\n",
       "      <th></th>\n",
       "      <th>id</th>\n",
       "      <th>date</th>\n",
       "      <th>store_nbr</th>\n",
       "      <th>family</th>\n",
       "      <th>onpromotion</th>\n",
       "    </tr>\n",
       "  </thead>\n",
       "  <tbody>\n",
       "    <tr>\n",
       "      <th>0</th>\n",
       "      <td>3000888</td>\n",
       "      <td>2017-08-16</td>\n",
       "      <td>1</td>\n",
       "      <td>AUTOMOTIVE</td>\n",
       "      <td>20.0</td>\n",
       "    </tr>\n",
       "    <tr>\n",
       "      <th>1</th>\n",
       "      <td>3000889</td>\n",
       "      <td>2017-08-16</td>\n",
       "      <td>1</td>\n",
       "      <td>BABY CARE</td>\n",
       "      <td>1.0</td>\n",
       "    </tr>\n",
       "    <tr>\n",
       "      <th>2</th>\n",
       "      <td>3000890</td>\n",
       "      <td>2017-08-16</td>\n",
       "      <td>1</td>\n",
       "      <td>BEAUTY</td>\n",
       "      <td>8.0</td>\n",
       "    </tr>\n",
       "    <tr>\n",
       "      <th>3</th>\n",
       "      <td>3000891</td>\n",
       "      <td>2017-08-16</td>\n",
       "      <td>1</td>\n",
       "      <td>BEVERAGES</td>\n",
       "      <td>560.0</td>\n",
       "    </tr>\n",
       "    <tr>\n",
       "      <th>4</th>\n",
       "      <td>3000892</td>\n",
       "      <td>2017-08-16</td>\n",
       "      <td>1</td>\n",
       "      <td>BOOKS</td>\n",
       "      <td>1.0</td>\n",
       "    </tr>\n",
       "  </tbody>\n",
       "</table>\n",
       "</div>"
      ],
      "text/plain": [
       "        id        date  store_nbr      family  onpromotion\n",
       "0  3000888  2017-08-16          1  AUTOMOTIVE         20.0\n",
       "1  3000889  2017-08-16          1   BABY CARE          1.0\n",
       "2  3000890  2017-08-16          1      BEAUTY          8.0\n",
       "3  3000891  2017-08-16          1   BEVERAGES        560.0\n",
       "4  3000892  2017-08-16          1       BOOKS          1.0"
      ]
     },
     "execution_count": 35,
     "metadata": {},
     "output_type": "execute_result"
    }
   ],
   "source": [
    "dataset_test = pd.read_csv(r'C:\\Users\\RAVI\\Desktop\\test.csv')\n",
    "dataset_test.head()"
   ]
  },
  {
   "cell_type": "code",
   "execution_count": 37,
   "id": "a5a652f2",
   "metadata": {},
   "outputs": [
    {
     "data": {
      "text/plain": [
       "array([[1],\n",
       "       [1],\n",
       "       [1],\n",
       "       ...,\n",
       "       [9],\n",
       "       [9],\n",
       "       [9]], dtype=int64)"
      ]
     },
     "execution_count": 37,
     "metadata": {},
     "output_type": "execute_result"
    }
   ],
   "source": [
    "real_stock_price = dataset_test.loc[:, ['store_nbr']].values\n",
    "real_stock_price"
   ]
  },
  {
   "cell_type": "code",
   "execution_count": 38,
   "id": "07a6706e",
   "metadata": {},
   "outputs": [
    {
     "data": {
      "text/plain": [
       "array([[0.13207547],\n",
       "       [0.13207547],\n",
       "       [0.13207547],\n",
       "       ...,\n",
       "       [0.1509434 ],\n",
       "       [0.1509434 ],\n",
       "       [0.1509434 ]])"
      ]
     },
     "execution_count": 38,
     "metadata": {},
     "output_type": "execute_result"
    }
   ],
   "source": [
    "dataset_total = pd.concat((dataset_train['store_nbr'], dataset_test['store_nbr']), axis=0)\n",
    "inputs = dataset_total[len(dataset_total)-len(dataset_test) - timesteps:].values.reshape(-1,1)\n",
    "inputs = scaler.transform(inputs) #minmax scaler\n",
    "inputs"
   ]
  },
  {
   "cell_type": "code",
   "execution_count": 39,
   "id": "aa913a32",
   "metadata": {},
   "outputs": [],
   "source": [
    "X_test = []\n",
    "for i in range(timesteps, 70):\n",
    "    X_test.append(inputs[i-timesteps:i,0])\n",
    "X_test = np.array(X_test)\n",
    "X_test = np.reshape(X_test, (X_test.shape[0], X_test.shape[1], 1))\n",
    "predicted_stock_price = regressor.predict(X_test)\n",
    "predicted_stock_price = scaler.inverse_transform(predicted_stock_price)"
   ]
  },
  {
   "cell_type": "code",
   "execution_count": 41,
   "id": "ecbd260d",
   "metadata": {},
   "outputs": [
    {
     "data": {
      "text/plain": [
       "Text(0, 0.5, 'Test Data Prediction')"
      ]
     },
     "execution_count": 41,
     "metadata": {},
     "output_type": "execute_result"
    },
    {
     "data": {
      "image/png": "[encoded data removed]",
      "text/plain": [
       "<Figure size 432x288 with 1 Axes>"
      ]
     },
     "metadata": {
      "needs_background": "light"
     },
     "output_type": "display_data"
    }
   ],
   "source": [
    "plt.plot(real_stock_price, color='red', label='X')\n",
    "plt.plot(predicted_stock_price, color='blue', label='Y')\n",
    "plt.title(' Prediction')\n",
    "plt.xlabel('Time')\n",
    "plt.ylabel('Test Data Prediction')"
   ]
  },
  {
   "cell_type": "code",
   "execution_count": null,
   "id": "f0d79292",
   "metadata": {},
   "outputs": [],
   "source": []
  }
 ],
 "metadata": {
  "kernelspec": {
   "display_name": "Python 3",
   "language": "python",
   "name": "python3"
  },
  "language_info": {
   "codemirror_mode": {
    "name": "ipython",
    "version": 3
   },
   "file_extension": ".py",
   "mimetype": "text/x-python",
   "name": "python",
   "nbconvert_exporter": "python",
   "pygments_lexer": "ipython3",
   "version": "3.8.8"
  }
 },
 "nbformat": 4,
 "nbformat_minor": 5
}
